{
 "cells": [
  {
   "cell_type": "code",
   "execution_count": 2,
   "metadata": {},
   "outputs": [],
   "source": [
    "import os\n",
    "from django.conf import settings\n",
    "# settings.configure({\n",
    "#     'DEBUG': 'True',\n",
    "#     'AUTH_USER_MODEL': 'accounts.MyUser',\n",
    "#     'AUTHENTICATION_BACKENDS': [\n",
    "#         'accounts.backends.EmailAuthenticationBackend'\n",
    "#     ]\n",
    "# })\n",
    "from feed import models as feed_models\n",
    "from accounts import models\n",
    "from dms import models as dms_models\n",
    "from django.db.models import BooleanField\n",
    "from django.db.models.expressions import Q, F, Case, When"
   ]
  },
  {
   "cell_type": "code",
   "execution_count": 3,
   "metadata": {},
   "outputs": [],
   "source": [
    "os.environ['DJANGO_ALLOW_ASYNC_UNSAFE'] = 'true'"
   ]
  },
  {
   "cell_type": "code",
   "execution_count": 4,
   "metadata": {},
   "outputs": [],
   "source": [
    "users = models.MyUser.objects.all()\n",
    "user1 = users.first()\n",
    "user2 = users.get(username='kylie')"
   ]
  },
  {
   "cell_type": "code",
   "execution_count": 5,
   "metadata": {},
   "outputs": [
    {
     "data": {
      "text/plain": [
       "<MyUserProfile: kylie.jenner@gmail.com>"
      ]
     },
     "execution_count": 5,
     "metadata": {},
     "output_type": "execute_result"
    }
   ],
   "source": [
    "profile1 = user1.myuserprofile\n",
    "profile2 = user2.myuserprofile\n",
    "profile2"
   ]
  },
  {
   "cell_type": "code",
   "execution_count": 6,
   "metadata": {},
   "outputs": [
    {
     "data": {
      "text/plain": [
       "<QuerySet [<MyUserProfile: kylie.jenner@gmail.com>, <MyUserProfile: constance.jablonski@gmail.com>]>"
      ]
     },
     "execution_count": 6,
     "metadata": {},
     "output_type": "execute_result"
    }
   ],
   "source": [
    "followers = profile1.followed_by.all()\n",
    "followers"
   ]
  },
  {
   "cell_type": "code",
   "execution_count": 7,
   "metadata": {},
   "outputs": [
    {
     "data": {
      "text/plain": [
       "True"
      ]
     },
     "execution_count": 7,
     "metadata": {},
     "output_type": "execute_result"
    }
   ],
   "source": [
    "profile2 in followers"
   ]
  },
  {
   "cell_type": "code",
   "execution_count": 8,
   "metadata": {},
   "outputs": [
    {
     "data": {
      "text/plain": [
       "<QuerySet [<MyUserProfile: pendenquejohn@gmail.com>, <MyUserProfile: kylie.jenner@gmail.com>]>"
      ]
     },
     "execution_count": 8,
     "metadata": {},
     "output_type": "execute_result"
    }
   ],
   "source": [
    "constance = users.get(username='constance')\n",
    "# constance.myuserprofile.follows.add(profile1)\n",
    "constance.myuserprofile.follows.all()"
   ]
  },
  {
   "cell_type": "code",
   "execution_count": 9,
   "metadata": {},
   "outputs": [
    {
     "data": {
      "text/plain": [
       "<QuerySet [<MyUserProfile: pendenquejohn@gmail.com>, <MyUserProfile: kylie.jenner@gmail.com>]>"
      ]
     },
     "execution_count": 9,
     "metadata": {},
     "output_type": "execute_result"
    }
   ],
   "source": [
    "# constance.myuserprofile.follows.remove(profile1)\n",
    "constance.myuserprofile.follows.all()"
   ]
  },
  {
   "cell_type": "code",
   "execution_count": 10,
   "metadata": {},
   "outputs": [],
   "source": [
    "comments = feed_models.Conversation.objects.all()"
   ]
  },
  {
   "cell_type": "code",
   "execution_count": 11,
   "metadata": {},
   "outputs": [
    {
     "data": {
      "text/plain": [
       "<Conversation: constance>"
      ]
     },
     "execution_count": 11,
     "metadata": {},
     "output_type": "execute_result"
    }
   ],
   "source": [
    "comment = comments.first()\n",
    "comment"
   ]
  },
  {
   "cell_type": "code",
   "execution_count": 12,
   "metadata": {},
   "outputs": [
    {
     "name": "stdout",
     "output_type": "stream",
     "text": [
      "<QuerySet []> 0\n"
     ]
    }
   ],
   "source": [
    "likes = comment.like_set.all()\n",
    "print(likes, likes.count())"
   ]
  },
  {
   "cell_type": "code",
   "execution_count": 13,
   "metadata": {},
   "outputs": [
    {
     "data": {
      "text/plain": [
       "<QuerySet [(False,), (False,), (True,), (False,), (False,), (True,), (True,), (False,), (False,)]>"
      ]
     },
     "execution_count": 13,
     "metadata": {},
     "output_type": "execute_result"
    }
   ],
   "source": [
    "user_in_likes = When(like__user__username='zadigo', then=True)\n",
    "cases = Case(user_in_likes, default=False, output_field=BooleanField())\n",
    "annotated_comments = comments.annotate(has_liked=cases)\n",
    "annotated_comments.values_list('has_liked')"
   ]
  },
  {
   "cell_type": "code",
   "execution_count": 14,
   "metadata": {},
   "outputs": [],
   "source": [
    "zadigo = users.get(username='zadigo')"
   ]
  },
  {
   "cell_type": "code",
   "execution_count": 26,
   "metadata": {},
   "outputs": [
    {
     "data": {
      "text/plain": [
       "<QuerySet [<DirectMessage: zadigo>, <DirectMessage: zadigo>, <DirectMessage: zadigo>, <DirectMessage: zadigo>, <DirectMessage: zadigo>, <DirectMessage: zadigo>, <DirectMessage: zadigo>, <DirectMessage: zadigo>, <DirectMessage: zadigo>, <DirectMessage: constance>]>"
      ]
     },
     "execution_count": 26,
     "metadata": {},
     "output_type": "execute_result"
    }
   ],
   "source": [
    "messages = dms_models.DirectMessage.objects.filter(Q(message_sender=zadigo.id) | Q(message_receiver=zadigo.id))\n",
    "messages"
   ]
  },
  {
   "cell_type": "code",
   "execution_count": 27,
   "metadata": {},
   "outputs": [
    {
     "data": {
      "text/plain": [
       "<QuerySet [<DirectMessage: zadigo>, <DirectMessage: constance>]>"
      ]
     },
     "execution_count": 27,
     "metadata": {},
     "output_type": "execute_result"
    }
   ],
   "source": [
    "messages.filter(Q(message_receiver__username=constance.username) | Q(message_sender__username=constance.username))"
   ]
  },
  {
   "cell_type": "code",
   "execution_count": 38,
   "metadata": {},
   "outputs": [
    {
     "data": {
      "text/plain": [
       "{'constance', 'kylie'}"
      ]
     },
     "execution_count": 38,
     "metadata": {},
     "output_type": "execute_result"
    }
   ],
   "source": [
    "list_of_users = messages.values_list('message_receiver__username', flat=True)\n",
    "set(user for user in list(list_of_users) if user != \"zadigo\")"
   ]
  },
  {
   "cell_type": "code",
   "execution_count": null,
   "metadata": {},
   "outputs": [],
   "source": []
  }
 ],
 "metadata": {
  "kernelspec": {
   "display_name": "Django Shell-Plus",
   "language": "python",
   "name": "django_extensions"
  },
  "language_info": {
   "codemirror_mode": {
    "name": "ipython",
    "version": 3
   },
   "file_extension": ".py",
   "mimetype": "text/x-python",
   "name": "python",
   "nbconvert_exporter": "python",
   "pygments_lexer": "ipython3",
   "version": "3.8.2"
  }
 },
 "nbformat": 4,
 "nbformat_minor": 2
}
