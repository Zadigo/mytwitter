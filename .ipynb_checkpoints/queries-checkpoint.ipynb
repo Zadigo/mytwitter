{
 "cells": [
  {
   "cell_type": "code",
   "execution_count": 9,
   "metadata": {},
   "outputs": [],
   "source": [
    "import os\n",
    "from django.conf import settings\n",
    "# settings.configure({\n",
    "#     'DEBUG': 'True',\n",
    "#     'AUTH_USER_MODEL': 'accounts.MyUser',\n",
    "#     'AUTHENTICATION_BACKENDS': [\n",
    "#         'accounts.backends.EmailAuthenticationBackend'\n",
    "#     ]\n",
    "# })\n",
    "from feed import models as feed_models\n",
    "from accounts import models"
   ]
  },
  {
   "cell_type": "code",
   "execution_count": 10,
   "metadata": {},
   "outputs": [],
   "source": [
    "os.environ['DJANGO_ALLOW_ASYNC_UNSAFE'] = 'true'"
   ]
  },
  {
   "cell_type": "code",
   "execution_count": 8,
   "metadata": {},
   "outputs": [],
   "source": [
    "user = models.MyUser.objects.first()\n",
    "follows = user.myuserprofile.follows.all()\n",
    "l = follows.values_list('id', flat=True)\n",
    "feed_models.Conversation.objects.filter "
   ]
  },
  {
   "cell_type": "code",
   "execution_count": null,
   "metadata": {},
   "outputs": [],
   "source": []
  }
 ],
 "metadata": {
  "kernelspec": {
   "display_name": "Django Shell-Plus",
   "language": "python",
   "name": "django_extensions"
  },
  "language_info": {
   "codemirror_mode": {
    "name": "ipython",
    "version": 3
   },
   "file_extension": ".py",
   "mimetype": "text/x-python",
   "name": "python",
   "nbconvert_exporter": "python",
   "pygments_lexer": "ipython3",
   "version": "3.8.2"
  }
 },
 "nbformat": 4,
 "nbformat_minor": 2
}
